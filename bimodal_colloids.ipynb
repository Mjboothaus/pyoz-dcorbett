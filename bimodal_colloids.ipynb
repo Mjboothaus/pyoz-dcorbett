{
 "cells": [
  {
   "cell_type": "code",
   "execution_count": 2,
   "metadata": {
    "collapsed": false
   },
   "outputs": [],
   "source": [
    "import itertools as it\n",
    "import matplotlib.pyplot as plt\n",
    "import numpy as np\n",
    "import seaborn as sns\n",
    "import pandas as pd\n",
    "\n",
    "import pyoz as oz\n"
   ]
  },
  {
   "cell_type": "code",
   "execution_count": 3,
   "metadata": {},
   "outputs": [],
   "source": [
    "sns.set_style('whitegrid', {'xtick.major.size': 5,\n",
    "                            'xtick.labelsize': 'large',\n",
    "                            'ytick.major.size': 5,\n",
    "                            'ytick.labelsize': 'large',\n",
    "                            'axes.edgecolor': 'k',\n",
    "                            'font.weight': 'bold',\n",
    "                            'axes.labelsize': 'large',\n",
    "                            })\n",
    "\n",
    "params = {'mathtext.default': 'regular'}\n",
    "plt.rcParams.update(params)\n",
    "plt.style.use('seaborn-colorblind')\n",
    "%matplotlib inline\n"
   ]
  },
  {
   "cell_type": "code",
   "execution_count": 4,
   "metadata": {
    "collapsed": false
   },
   "outputs": [
    {
     "name": "stdout",
     "output_type": "stream",
     "text": [
      "260\n"
     ]
    }
   ],
   "source": [
    "# Colloid concentration\n",
    "rhos = np.arange(0.01, 0.03, 0.002)\n",
    "\n",
    "# Depletant concentration\n",
    "rho_ds = np.arange(3.24, 4.5, 0.05)\n",
    "\n",
    "sig_c = 3.0\n",
    "sig_d = 0.5\n",
    "\n",
    "converged = pd.DataFrame(index=rho_ds, columns=rhos)\n",
    "converged.index.name = r'$\\rho_{depl}$'\n",
    "converged.columns.name = r'$\\rho$'\n",
    "\n",
    "print(len(rhos) * len(rho_ds))"
   ]
  },
  {
   "cell_type": "code",
   "execution_count": 9,
   "metadata": {},
   "outputs": [
    {
     "data": {
      "text/html": [
       "<div>\n",
       "<style scoped>\n",
       "    .dataframe tbody tr th:only-of-type {\n",
       "        vertical-align: middle;\n",
       "    }\n",
       "\n",
       "    .dataframe tbody tr th {\n",
       "        vertical-align: top;\n",
       "    }\n",
       "\n",
       "    .dataframe thead th {\n",
       "        text-align: right;\n",
       "    }\n",
       "</style>\n",
       "<table border=\"1\" class=\"dataframe\">\n",
       "  <thead>\n",
       "    <tr style=\"text-align: right;\">\n",
       "      <th>$\\rho$</th>\n",
       "      <th>0.010</th>\n",
       "      <th>0.012</th>\n",
       "      <th>0.014</th>\n",
       "      <th>0.016</th>\n",
       "      <th>0.018</th>\n",
       "      <th>0.020</th>\n",
       "      <th>0.022</th>\n",
       "      <th>0.024</th>\n",
       "      <th>0.026</th>\n",
       "      <th>0.028</th>\n",
       "    </tr>\n",
       "    <tr>\n",
       "      <th>$\\rho_{depl}$</th>\n",
       "      <th></th>\n",
       "      <th></th>\n",
       "      <th></th>\n",
       "      <th></th>\n",
       "      <th></th>\n",
       "      <th></th>\n",
       "      <th></th>\n",
       "      <th></th>\n",
       "      <th></th>\n",
       "      <th></th>\n",
       "    </tr>\n",
       "  </thead>\n",
       "  <tbody>\n",
       "    <tr>\n",
       "      <th>3.24</th>\n",
       "      <td>1.0</td>\n",
       "      <td>1.0</td>\n",
       "      <td>1.0</td>\n",
       "      <td>1.0</td>\n",
       "      <td>1.0</td>\n",
       "      <td>1.0</td>\n",
       "      <td>1.0</td>\n",
       "      <td>1.0</td>\n",
       "      <td>1.0</td>\n",
       "      <td>1.0</td>\n",
       "    </tr>\n",
       "    <tr>\n",
       "      <th>3.29</th>\n",
       "      <td>1.0</td>\n",
       "      <td>1.0</td>\n",
       "      <td>1.0</td>\n",
       "      <td>1.0</td>\n",
       "      <td>1.0</td>\n",
       "      <td>1.0</td>\n",
       "      <td>1.0</td>\n",
       "      <td>1.0</td>\n",
       "      <td>1.0</td>\n",
       "      <td>1.0</td>\n",
       "    </tr>\n",
       "    <tr>\n",
       "      <th>3.34</th>\n",
       "      <td>1.0</td>\n",
       "      <td>1.0</td>\n",
       "      <td>1.0</td>\n",
       "      <td>1.0</td>\n",
       "      <td>1.0</td>\n",
       "      <td>1.0</td>\n",
       "      <td>1.0</td>\n",
       "      <td>1.0</td>\n",
       "      <td>1.0</td>\n",
       "      <td>1.0</td>\n",
       "    </tr>\n",
       "    <tr>\n",
       "      <th>3.39</th>\n",
       "      <td>1.0</td>\n",
       "      <td>1.0</td>\n",
       "      <td>1.0</td>\n",
       "      <td>1.0</td>\n",
       "      <td>1.0</td>\n",
       "      <td>1.0</td>\n",
       "      <td>1.0</td>\n",
       "      <td>1.0</td>\n",
       "      <td>1.0</td>\n",
       "      <td>1.0</td>\n",
       "    </tr>\n",
       "    <tr>\n",
       "      <th>3.44</th>\n",
       "      <td>1.0</td>\n",
       "      <td>1.0</td>\n",
       "      <td>1.0</td>\n",
       "      <td>1.0</td>\n",
       "      <td>1.0</td>\n",
       "      <td>1.0</td>\n",
       "      <td>1.0</td>\n",
       "      <td>1.0</td>\n",
       "      <td>1.0</td>\n",
       "      <td>1.0</td>\n",
       "    </tr>\n",
       "  </tbody>\n",
       "</table>\n",
       "</div>"
      ],
      "text/plain": [
       "$\\rho$        0.010 0.012 0.014 0.016 0.018 0.020 0.022 0.024 0.026 0.028\n",
       "$\\rho_{depl}$                                                            \n",
       "3.24            1.0   1.0   1.0   1.0   1.0   1.0   1.0   1.0   1.0   1.0\n",
       "3.29            1.0   1.0   1.0   1.0   1.0   1.0   1.0   1.0   1.0   1.0\n",
       "3.34            1.0   1.0   1.0   1.0   1.0   1.0   1.0   1.0   1.0   1.0\n",
       "3.39            1.0   1.0   1.0   1.0   1.0   1.0   1.0   1.0   1.0   1.0\n",
       "3.44            1.0   1.0   1.0   1.0   1.0   1.0   1.0   1.0   1.0   1.0"
      ]
     },
     "execution_count": 9,
     "metadata": {},
     "output_type": "execute_result"
    }
   ],
   "source": [
    "converged.head()"
   ]
  },
  {
   "cell_type": "code",
   "execution_count": 8,
   "metadata": {},
   "outputs": [],
   "source": [
    "for rho, rho_d in it.product(rhos, rho_ds):\n",
    "    soft = oz.System()\n",
    "    U = oz.soft_depletion(soft.r, eps=1, n=36, sig_c=sig_c,\n",
    "                          sig_d=sig_d, rho_d=rho_d)\n",
    "    soft.set_interaction(0, 0, U)\n",
    "\n",
    "    g_r, _, _, _ = soft.solve(rhos=rho, closure_name='kh', max_iter=1000)\n",
    "\n",
    "    converged.at[rho_d, rho] = 0.0 if np.isnan(g_r).all() else 1.0\n"
   ]
  },
  {
   "cell_type": "code",
   "execution_count": 10,
   "metadata": {
    "collapsed": false
   },
   "outputs": [
    {
     "data": {
      "image/png": "[encoded data removed]",
      "text/plain": [
       "<Figure size 432x288 with 1 Axes>"
      ]
     },
     "metadata": {
      "needs_background": "light"
     },
     "output_type": "display_data"
    }
   ],
   "source": [
    "converged = converged[converged.columns].astype(float)\n",
    "ax = sns.heatmap(converged, vmin=0, vmax=1, cbar=False, yticklabels=10)\n",
    "ax.invert_yaxis()\n"
   ]
  },
  {
   "cell_type": "code",
   "execution_count": 11,
   "metadata": {
    "collapsed": false,
    "scrolled": true
   },
   "outputs": [
    {
     "name": "stdout",
     "output_type": "stream",
     "text": [
      "12 12\n"
     ]
    }
   ],
   "source": [
    "rho_2 = np.arange(0.01, 0.12, 0.01)\n",
    "y2 = [9.9, 6.9, 6.0, 5.6, 5.1, 5.1, 5.2, 5.4, 5.5, 5.9, 9.9]\n",
    "\n",
    "rho_3 = np.arange(0.008, 0.032, 0.002)\n",
    "y3 = [5.5, 4.18, 3.95, 3.75, 3.72, 3.7, 3.67, 3.64, 3.63, 3.64, 4.4, 5.7]\n",
    "print(len(rho_3), len(y3))"
   ]
  },
  {
   "cell_type": "code",
   "execution_count": 12,
   "metadata": {
    "collapsed": false
   },
   "outputs": [
    {
     "data": {
      "image/png": "[encoded data removed]",
      "text/plain": [
       "<Figure size 432x288 with 1 Axes>"
      ]
     },
     "metadata": {
      "needs_background": "light"
     },
     "output_type": "display_data"
    }
   ],
   "source": [
    "plt.plot(rho_2 * 2**3, y2, label=r'$\\sigma_{coll} = 2.0$')\n",
    "plt.plot(rho_3 * 3**3, y3, label=r'$\\sigma_{coll} = 3.0$')\n",
    "plt.xlabel(r'$\\rho * \\sigma_{coll}^3$')\n",
    "plt.ylabel(r'$\\rho_{depl}$')\n",
    "plt.legend(loc='upper center')\n",
    "plt.savefig('big_small.pdf', bbox_inches='tight')\n"
   ]
  }
 ],
 "metadata": {
  "anaconda-cloud": {},
  "kernelspec": {
   "display_name": "Python 3.9.12 ('.venv': venv)",
   "language": "python",
   "name": "python3"
  },
  "language_info": {
   "codemirror_mode": {
    "name": "ipython",
    "version": 3
   },
   "file_extension": ".py",
   "mimetype": "text/x-python",
   "name": "python",
   "nbconvert_exporter": "python",
   "pygments_lexer": "ipython3",
   "version": "3.9.12"
  },
  "vscode": {
   "interpreter": {
    "hash": "fb3068feb5a078f8a440181a895a2642e23672dbea2dcd1f7dfde9be6df501b7"
   }
  }
 },
 "nbformat": 4,
 "nbformat_minor": 1
}
